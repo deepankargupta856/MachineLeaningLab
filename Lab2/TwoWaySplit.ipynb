{
 "cells": [
  {
   "cell_type": "markdown",
   "id": "92b6ba56",
   "metadata": {},
   "source": [
    " This code will be used to perform two way spliting on a dataset.\n",
    " This will divide the dataset into two part one for training and other for testing."
   ]
  },
  {
   "cell_type": "code",
   "execution_count": null,
   "id": "07142b62",
   "metadata": {},
   "outputs": [
    {
     "name": "stdout",
     "output_type": "stream",
     "text": [
      "Training set size: 4000\n",
      "Testing set size: 1000\n"
     ]
    }
   ],
   "source": [
    "## Two-Way Split\n",
    "\n",
    "import pandas as pd\n",
    "from sklearn.model_selection import train_test_split\n",
    "data = pd.read_csv('dummy.csv')\n",
    "train, test = train_test_split(data, test_size=0.2, random_state=42)\n",
    "print(f\"Training set size: {len(train)}\")\n",
    "print(f\"Testing set size: {len(test)}\")\n",
    "\n"
   ]
  },
  {
   "cell_type": "code",
   "execution_count": 2,
   "id": "b8dce204",
   "metadata": {},
   "outputs": [],
   "source": [
    "train.to_csv('train.csv', index=False)\n",
    "test.to_csv('test.csv', index=False)"
   ]
  },
  {
   "cell_type": "code",
   "execution_count": null,
   "id": "2fa6f95f",
   "metadata": {},
   "outputs": [],
   "source": []
  }
 ],
 "metadata": {
  "kernelspec": {
   "display_name": ".venv",
   "language": "python",
   "name": "python3"
  },
  "language_info": {
   "codemirror_mode": {
    "name": "ipython",
    "version": 3
   },
   "file_extension": ".py",
   "mimetype": "text/x-python",
   "name": "python",
   "nbconvert_exporter": "python",
   "pygments_lexer": "ipython3",
   "version": "3.10.0"
  }
 },
 "nbformat": 4,
 "nbformat_minor": 5
}
