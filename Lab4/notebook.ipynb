{
 "cells": [
  {
   "cell_type": "code",
   "execution_count": 7,
   "id": "d3399d21",
   "metadata": {},
   "outputs": [],
   "source": [
    "import tensorflow as tf\n",
    "import numpy as np"
   ]
  },
  {
   "cell_type": "code",
   "execution_count": 8,
   "id": "b9cec39c",
   "metadata": {},
   "outputs": [],
   "source": [
    "(x_train_full, y_train_full), (x_test_full, y_test_full) = tf.keras.datasets.mnist.load_data()"
   ]
  },
  {
   "cell_type": "code",
   "execution_count": 9,
   "id": "60463371",
   "metadata": {},
   "outputs": [
    {
     "name": "stdout",
     "output_type": "stream",
     "text": [
      "Total samples loaded: 70000\n"
     ]
    }
   ],
   "source": [
    "# Combine training and test sets for filtering\n",
    "x_combined = np.concatenate([x_train_full, x_test_full], axis=0)\n",
    "y_combined = np.concatenate([y_train_full, y_test_full], axis=0)\n",
    "\n",
    "print(f\"Total samples loaded: {len(y_combined)}\")"
   ]
  },
  {
   "cell_type": "code",
   "execution_count": null,
   "id": "62e1a3ba",
   "metadata": {},
   "outputs": [
    {
     "name": "stdout",
     "output_type": "stream",
     "text": [
      "Filtering for digits: [0, 1]\n"
     ]
    }
   ],
   "source": [
    "# Define the digits you want to keep\n",
    "TARGET_DIGITS = [0, 1]\n",
    "\n",
    "# Create a boolean mask to filter for '0' and '1'\n",
    "print(f\"Filtering for digits: {TARGET_DIGITS}\")\n",
    "# Use np.isin to check if each label is either 0 or 1\n",
    "filter_mask = np.isin(y_combined, TARGET_DIGITS)"
   ]
  },
  {
   "cell_type": "code",
   "execution_count": 11,
   "id": "19fe0a0f",
   "metadata": {},
   "outputs": [
    {
     "name": "stdout",
     "output_type": "stream",
     "text": [
      "Total samples in binary dataset: 14780\n"
     ]
    }
   ],
   "source": [
    "# Apply the mask to create the new binary dataset\n",
    "x_binary = x_combined[filter_mask]\n",
    "y_binary = y_combined[filter_mask]\n",
    "\n",
    "print(f\"Total samples in binary dataset: {len(y_binary)}\")"
   ]
  },
  {
   "cell_type": "code",
   "execution_count": null,
   "id": "ae8ef188",
   "metadata": {},
   "outputs": [],
   "source": []
  }
 ],
 "metadata": {
  "kernelspec": {
   "display_name": ".venv",
   "language": "python",
   "name": "python3"
  },
  "language_info": {
   "codemirror_mode": {
    "name": "ipython",
    "version": 3
   },
   "file_extension": ".py",
   "mimetype": "text/x-python",
   "name": "python",
   "nbconvert_exporter": "python",
   "pygments_lexer": "ipython3",
   "version": "3.13.3"
  }
 },
 "nbformat": 4,
 "nbformat_minor": 5
}
